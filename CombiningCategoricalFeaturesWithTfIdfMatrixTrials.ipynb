{
 "cells": [
  {
   "cell_type": "code",
   "execution_count": 3,
   "metadata": {
    "collapsed": false
   },
   "outputs": [],
   "source": [
    "import pandas as pnd"
   ]
  },
  {
   "cell_type": "code",
   "execution_count": 20,
   "metadata": {
    "collapsed": true
   },
   "outputs": [],
   "source": [
    "automationLogsFiltered = pnd.DataFrame(columns=['ERROR','Platform','Feature','O/P Analysis'])"
   ]
  },
  {
   "cell_type": "code",
   "execution_count": 21,
   "metadata": {
    "collapsed": true
   },
   "outputs": [],
   "source": [
    "automationLogsFiltered.ERROR = [\"System crashed because of audio\", \n",
    "                        \"System hanged because of channel not available\", \n",
    "                        \"Aborted: check your audio\",\n",
    "                        \"Unable to add my episodes to myshows\",\n",
    "                        \"System crashed because of audio\", \n",
    "                        \"System hanged because of channel not available\", \n",
    "                        \"Aborted: check your audio\",\n",
    "                        \"Unable to add my episodes to myshows\"]"
   ]
  },
  {
   "cell_type": "code",
   "execution_count": 22,
   "metadata": {
    "collapsed": false
   },
   "outputs": [],
   "source": [
    "automationLogsFiltered.Platform = [\"abc1\",\n",
    "                           \"abc1\",\n",
    "                           \"abc1\",\n",
    "                           \"abc1\",\n",
    "                           \"abc2\",\n",
    "                           \"abc2\",\n",
    "                           \"abc2\",\n",
    "                           \"abc2\"]"
   ]
  },
  {
   "cell_type": "code",
   "execution_count": 23,
   "metadata": {
    "collapsed": false
   },
   "outputs": [],
   "source": [
    "automationLogsFiltered.Feature = [\"f1\",\"f1\",\"f2\",\"f2\",\n",
    "                          \"f3\",\"f3\",\"f4\",\"f4\"]"
   ]
  },
  {
   "cell_type": "code",
   "execution_count": 24,
   "metadata": {
    "collapsed": false
   },
   "outputs": [],
   "source": [
    "automationLogsFiltered['O/P Analysis'] = [\"Reason-1\",\"Reason-2\",\"Reason-3\",\"Reason-4\",\n",
    "                                 \"Reason-5\",\"Reason-6\",\"Reason-7\",\"Reason-8\"]"
   ]
  },
  {
   "cell_type": "code",
   "execution_count": 25,
   "metadata": {
    "collapsed": false
   },
   "outputs": [
    {
     "data": {
      "text/html": [
       "<div>\n",
       "<table border=\"1\" class=\"dataframe\">\n",
       "  <thead>\n",
       "    <tr style=\"text-align: right;\">\n",
       "      <th></th>\n",
       "      <th>ERROR</th>\n",
       "      <th>Platform</th>\n",
       "      <th>Feature</th>\n",
       "      <th>O/P Analysis</th>\n",
       "    </tr>\n",
       "  </thead>\n",
       "  <tbody>\n",
       "    <tr>\n",
       "      <th>0</th>\n",
       "      <td>System crashed because of audio</td>\n",
       "      <td>abc1</td>\n",
       "      <td>f1</td>\n",
       "      <td>Reason-1</td>\n",
       "    </tr>\n",
       "    <tr>\n",
       "      <th>1</th>\n",
       "      <td>System hanged because of channel not available</td>\n",
       "      <td>abc1</td>\n",
       "      <td>f1</td>\n",
       "      <td>Reason-2</td>\n",
       "    </tr>\n",
       "    <tr>\n",
       "      <th>2</th>\n",
       "      <td>Aborted: check your audio</td>\n",
       "      <td>abc1</td>\n",
       "      <td>f2</td>\n",
       "      <td>Reason-3</td>\n",
       "    </tr>\n",
       "    <tr>\n",
       "      <th>3</th>\n",
       "      <td>Unable to add my episodes to myshows</td>\n",
       "      <td>abc1</td>\n",
       "      <td>f2</td>\n",
       "      <td>Reason-4</td>\n",
       "    </tr>\n",
       "    <tr>\n",
       "      <th>4</th>\n",
       "      <td>System crashed because of audio</td>\n",
       "      <td>abc2</td>\n",
       "      <td>f3</td>\n",
       "      <td>Reason-5</td>\n",
       "    </tr>\n",
       "    <tr>\n",
       "      <th>5</th>\n",
       "      <td>System hanged because of channel not available</td>\n",
       "      <td>abc2</td>\n",
       "      <td>f3</td>\n",
       "      <td>Reason-6</td>\n",
       "    </tr>\n",
       "    <tr>\n",
       "      <th>6</th>\n",
       "      <td>Aborted: check your audio</td>\n",
       "      <td>abc2</td>\n",
       "      <td>f4</td>\n",
       "      <td>Reason-7</td>\n",
       "    </tr>\n",
       "    <tr>\n",
       "      <th>7</th>\n",
       "      <td>Unable to add my episodes to myshows</td>\n",
       "      <td>abc2</td>\n",
       "      <td>f4</td>\n",
       "      <td>Reason-8</td>\n",
       "    </tr>\n",
       "  </tbody>\n",
       "</table>\n",
       "</div>"
      ],
      "text/plain": [
       "                                            ERROR Platform Feature  \\\n",
       "0                 System crashed because of audio     abc1      f1   \n",
       "1  System hanged because of channel not available     abc1      f1   \n",
       "2                       Aborted: check your audio     abc1      f2   \n",
       "3            Unable to add my episodes to myshows     abc1      f2   \n",
       "4                 System crashed because of audio     abc2      f3   \n",
       "5  System hanged because of channel not available     abc2      f3   \n",
       "6                       Aborted: check your audio     abc2      f4   \n",
       "7            Unable to add my episodes to myshows     abc2      f4   \n",
       "\n",
       "  O/P Analysis  \n",
       "0     Reason-1  \n",
       "1     Reason-2  \n",
       "2     Reason-3  \n",
       "3     Reason-4  \n",
       "4     Reason-5  \n",
       "5     Reason-6  \n",
       "6     Reason-7  \n",
       "7     Reason-8  "
      ]
     },
     "execution_count": 25,
     "metadata": {},
     "output_type": "execute_result"
    }
   ],
   "source": [
    "automationLogsFiltered"
   ]
  },
  {
   "cell_type": "code",
   "execution_count": 27,
   "metadata": {
    "collapsed": false
   },
   "outputs": [
    {
     "data": {
      "text/plain": [
       "['ERROR', 'Platform', 'Feature', 'O/P Analysis']"
      ]
     },
     "execution_count": 27,
     "metadata": {},
     "output_type": "execute_result"
    }
   ],
   "source": [
    "feature1=['ERROR']\n",
    "feature2=['Platform','Feature']\n",
    "output = ['O/P Analysis']\n",
    "features = feature1 + feature2 + output\n",
    "features"
   ]
  },
  {
   "cell_type": "code",
   "execution_count": 41,
   "metadata": {
    "collapsed": false
   },
   "outputs": [
    {
     "data": {
      "text/plain": [
       "array([0, 0, 0, 0, 1, 1, 1, 1])"
      ]
     },
     "execution_count": 41,
     "metadata": {},
     "output_type": "execute_result"
    }
   ],
   "source": [
    "#pnd.factorize(automationLogsFiltered[feature2])[0]\n",
    "pnd.factorize(automationLogsFiltered['Platform'])[0]"
   ]
  },
  {
   "cell_type": "code",
   "execution_count": 39,
   "metadata": {
    "collapsed": false
   },
   "outputs": [
    {
     "name": "stdout",
     "output_type": "stream",
     "text": [
      "['System crashed because of audio'\n",
      " 'System hanged because of channel not available'\n",
      " 'Aborted: check your audio' 'Unable to add my episodes to myshows'\n",
      " 'System crashed because of audio'\n",
      " 'System hanged because of channel not available'\n",
      " 'Aborted: check your audio' 'Unable to add my episodes to myshows']\n",
      "['Platform', 'Feature']\n"
     ]
    },
    {
     "ename": "ValueError",
     "evalue": "all the input arrays must have same number of dimensions",
     "output_type": "error",
     "traceback": [
      "\u001b[1;31m---------------------------------------------------------------------------\u001b[0m",
      "\u001b[1;31mValueError\u001b[0m                                Traceback (most recent call last)",
      "\u001b[1;32m<ipython-input-39-2f9324f2f130>\u001b[0m in \u001b[0;36m<module>\u001b[1;34m()\u001b[0m\n\u001b[0;32m     28\u001b[0m \u001b[1;33m\u001b[0m\u001b[0m\n\u001b[0;32m     29\u001b[0m Y = np.hstack([vectFit.A,\n\u001b[1;32m---> 30\u001b[1;33m                \u001b[0mpnd\u001b[0m\u001b[1;33m.\u001b[0m\u001b[0mfactorize\u001b[0m\u001b[1;33m(\u001b[0m\u001b[0mautomationLogsFiltered\u001b[0m\u001b[1;33m[\u001b[0m\u001b[1;34m'Feature'\u001b[0m\u001b[1;33m]\u001b[0m\u001b[1;33m)\u001b[0m\u001b[1;33m[\u001b[0m\u001b[1;36m0\u001b[0m\u001b[1;33m]\u001b[0m\u001b[1;33m,\u001b[0m\u001b[1;33m\u001b[0m\u001b[0m\n\u001b[0m\u001b[0;32m     31\u001b[0m               ])\n\u001b[0;32m     32\u001b[0m \u001b[0mX_columns\u001b[0m\u001b[1;33m=\u001b[0m\u001b[0mvectorizer\u001b[0m\u001b[1;33m.\u001b[0m\u001b[0mget_feature_names\u001b[0m\u001b[1;33m(\u001b[0m\u001b[1;33m)\u001b[0m\u001b[1;33m+\u001b[0m\u001b[0mautomationLogsFiltered\u001b[0m\u001b[1;33m[\u001b[0m\u001b[0mfeature2\u001b[0m\u001b[1;33m]\u001b[0m\u001b[1;33m.\u001b[0m\u001b[0mcolumns\u001b[0m\u001b[1;33m.\u001b[0m\u001b[0mtolist\u001b[0m\u001b[1;33m(\u001b[0m\u001b[1;33m)\u001b[0m\u001b[1;33m\u001b[0m\u001b[0m\n",
      "\u001b[1;32m/home/tivo/anaconda2/lib/python2.7/site-packages/numpy/core/shape_base.pyc\u001b[0m in \u001b[0;36mhstack\u001b[1;34m(tup)\u001b[0m\n\u001b[0;32m    278\u001b[0m         \u001b[1;32mreturn\u001b[0m \u001b[0m_nx\u001b[0m\u001b[1;33m.\u001b[0m\u001b[0mconcatenate\u001b[0m\u001b[1;33m(\u001b[0m\u001b[0marrs\u001b[0m\u001b[1;33m,\u001b[0m \u001b[1;36m0\u001b[0m\u001b[1;33m)\u001b[0m\u001b[1;33m\u001b[0m\u001b[0m\n\u001b[0;32m    279\u001b[0m     \u001b[1;32melse\u001b[0m\u001b[1;33m:\u001b[0m\u001b[1;33m\u001b[0m\u001b[0m\n\u001b[1;32m--> 280\u001b[1;33m         \u001b[1;32mreturn\u001b[0m \u001b[0m_nx\u001b[0m\u001b[1;33m.\u001b[0m\u001b[0mconcatenate\u001b[0m\u001b[1;33m(\u001b[0m\u001b[0marrs\u001b[0m\u001b[1;33m,\u001b[0m \u001b[1;36m1\u001b[0m\u001b[1;33m)\u001b[0m\u001b[1;33m\u001b[0m\u001b[0m\n\u001b[0m\u001b[0;32m    281\u001b[0m \u001b[1;33m\u001b[0m\u001b[0m\n\u001b[0;32m    282\u001b[0m \u001b[1;32mdef\u001b[0m \u001b[0mstack\u001b[0m\u001b[1;33m(\u001b[0m\u001b[0marrays\u001b[0m\u001b[1;33m,\u001b[0m \u001b[0maxis\u001b[0m\u001b[1;33m=\u001b[0m\u001b[1;36m0\u001b[0m\u001b[1;33m)\u001b[0m\u001b[1;33m:\u001b[0m\u001b[1;33m\u001b[0m\u001b[0m\n",
      "\u001b[1;31mValueError\u001b[0m: all the input arrays must have same number of dimensions"
     ]
    }
   ],
   "source": [
    "#APPROACH-1 (Code still under development, correct expected)\n",
    "import scipy as sp\n",
    "from sklearn.feature_extraction.text import CountVectorizer\n",
    "from sklearn.feature_extraction.text import TfidfVectorizer\n",
    "import numpy as np\n",
    "vectorizer = TfidfVectorizer(min_df=1,tokenizer=None,ngram_range=(1,4))\n",
    "print automationLogsFiltered[\"ERROR\"].values\n",
    "\n",
    "# y = automationLogsFiltered[feature1].values.astype(np.float32) \n",
    "vectFit=vectorizer.fit_transform(automationLogsFiltered.ERROR)\n",
    "#print vectorizer.get_feature_names()\n",
    "print automationLogsFiltered[feature2].columns.tolist()\n",
    "\n",
    "#X = sp.sparse.hstack(vectFit.A,pnd.factorize(automationLogsFiltered['Platform'])[0],format='csr')\n",
    "#X = sp.sparse.hstack(CountVectorizer(min_df=1,tokenizer=None,ngram_range=(1,4)),automationLogsFiltered[feature2],format='csr')\n",
    "\n",
    "#\n",
    "'''X = np.hstack([vectFit.A,\n",
    "              pnd.factorize(automationLogsFiltered['Feature'])[0],\n",
    "               pnd.factorize(automationLogsFiltered['Platform'])[0]\n",
    "              ])'''\n",
    "#X = np.append([vectFit.A,\n",
    "#               np.array(pnd.factorize(automationLogsFiltered['Platform'])[0])\n",
    "#                    ])\n",
    "X = np.hstack([vectFit.A,\n",
    "               automationLogsFiltered[feature2]\n",
    "              ])\n",
    "\n",
    "# This code doesn't work, gives error\n",
    "Y = np.hstack([vectFit.A,\n",
    "               pnd.factorize(automationLogsFiltered['Feature'])[0],\n",
    "              ])\n",
    "X_columns=vectorizer.get_feature_names()+automationLogsFiltered[feature2].columns.tolist()"
   ]
  },
  {
   "cell_type": "code",
   "execution_count": 48,
   "metadata": {
    "collapsed": false
   },
   "outputs": [
    {
     "data": {
      "text/plain": [
       "array([[0.0, 0.0, 0.0, 0.0, 0.0, 0.0, 0.0, 0.0, 0.21967393801424967, 0.0,\n",
       "        0.21967393801424967, 0.21967393801424967, 0.29034783828798594, 0.0,\n",
       "        0.0, 0.0, 0.0, 0.0, 0.0, 0.0, 0.0, 0.29034783828798594,\n",
       "        0.29034783828798594, 0.29034783828798594, 0.29034783828798594, 0.0,\n",
       "        0.0, 0.0, 0.0, 0.0, 0.0, 0.0, 0.0, 0.0, 0.0, 0.0, 0.0, 0.0, 0.0,\n",
       "        0.21967393801424967, 0.29034783828798594, 0.0, 0.0, 0.0,\n",
       "        0.21967393801424967, 0.29034783828798594, 0.29034783828798594,\n",
       "        0.29034783828798594, 0.0, 0.0, 0.0, 0.0, 0.0, 0.0, 0.0, 0.0, 0.0,\n",
       "        0.0, 0.0, 0.0, 0.0, 0.0, 'abc1', 'f1'],\n",
       "       [0.0, 0.0, 0.0, 0.0, 0.0, 0.0, 0.0, 0.0, 0.0, 0.2220046723012893,\n",
       "        0.16796626043282373, 0.16796626043282373, 0.0, 0.2220046723012893,\n",
       "        0.2220046723012893, 0.2220046723012893, 0.2220046723012893,\n",
       "        0.2220046723012893, 0.0, 0.0, 0.0, 0.0, 0.0, 0.0, 0.0, 0.0, 0.0,\n",
       "        0.0, 0.2220046723012893, 0.2220046723012893, 0.2220046723012893,\n",
       "        0.2220046723012893, 0.0, 0.0, 0.0, 0.0, 0.0, 0.2220046723012893,\n",
       "        0.2220046723012893, 0.16796626043282373, 0.0, 0.2220046723012893,\n",
       "        0.2220046723012893, 0.2220046723012893, 0.16796626043282373, 0.0,\n",
       "        0.0, 0.0, 0.2220046723012893, 0.2220046723012893,\n",
       "        0.2220046723012893, 0.0, 0.0, 0.0, 0.0, 0.0, 0.0, 0.0, 0.0, 0.0,\n",
       "        0.0, 0.0, 'abc1', 'f1'],\n",
       "       [0.3232131154680186, 0.3232131154680186, 0.3232131154680186,\n",
       "        0.3232131154680186, 0.0, 0.0, 0.0, 0.0, 0.24453944038767086, 0.0,\n",
       "        0.0, 0.0, 0.0, 0.0, 0.0, 0.0, 0.0, 0.0, 0.3232131154680186,\n",
       "        0.3232131154680186, 0.3232131154680186, 0.0, 0.0, 0.0, 0.0, 0.0,\n",
       "        0.0, 0.0, 0.0, 0.0, 0.0, 0.0, 0.0, 0.0, 0.0, 0.0, 0.0, 0.0, 0.0,\n",
       "        0.0, 0.0, 0.0, 0.0, 0.0, 0.0, 0.0, 0.0, 0.0, 0.0, 0.0, 0.0, 0.0,\n",
       "        0.0, 0.0, 0.0, 0.0, 0.0, 0.0, 0.0, 0.0, 0.3232131154680186,\n",
       "        0.3232131154680186, 'abc1', 'f2'],\n",
       "       [0.0, 0.0, 0.0, 0.0, 0.2041241452319315, 0.2041241452319315,\n",
       "        0.2041241452319315, 0.2041241452319315, 0.0, 0.0, 0.0, 0.0, 0.0,\n",
       "        0.0, 0.0, 0.0, 0.0, 0.0, 0.0, 0.0, 0.0, 0.0, 0.0, 0.0, 0.0,\n",
       "        0.2041241452319315, 0.2041241452319315, 0.2041241452319315, 0.0,\n",
       "        0.0, 0.0, 0.0, 0.2041241452319315, 0.2041241452319315,\n",
       "        0.2041241452319315, 0.2041241452319315, 0.2041241452319315, 0.0,\n",
       "        0.0, 0.0, 0.0, 0.0, 0.0, 0.0, 0.0, 0.0, 0.0, 0.0, 0.0, 0.0, 0.0,\n",
       "        0.408248290463863, 0.2041241452319315, 0.2041241452319315,\n",
       "        0.2041241452319315, 0.2041241452319315, 0.2041241452319315,\n",
       "        0.2041241452319315, 0.2041241452319315, 0.2041241452319315, 0.0,\n",
       "        0.0, 'abc1', 'f2'],\n",
       "       [0.0, 0.0, 0.0, 0.0, 0.0, 0.0, 0.0, 0.0, 0.21967393801424967, 0.0,\n",
       "        0.21967393801424967, 0.21967393801424967, 0.29034783828798594, 0.0,\n",
       "        0.0, 0.0, 0.0, 0.0, 0.0, 0.0, 0.0, 0.29034783828798594,\n",
       "        0.29034783828798594, 0.29034783828798594, 0.29034783828798594, 0.0,\n",
       "        0.0, 0.0, 0.0, 0.0, 0.0, 0.0, 0.0, 0.0, 0.0, 0.0, 0.0, 0.0, 0.0,\n",
       "        0.21967393801424967, 0.29034783828798594, 0.0, 0.0, 0.0,\n",
       "        0.21967393801424967, 0.29034783828798594, 0.29034783828798594,\n",
       "        0.29034783828798594, 0.0, 0.0, 0.0, 0.0, 0.0, 0.0, 0.0, 0.0, 0.0,\n",
       "        0.0, 0.0, 0.0, 0.0, 0.0, 'abc2', 'f3'],\n",
       "       [0.0, 0.0, 0.0, 0.0, 0.0, 0.0, 0.0, 0.0, 0.0, 0.2220046723012893,\n",
       "        0.16796626043282373, 0.16796626043282373, 0.0, 0.2220046723012893,\n",
       "        0.2220046723012893, 0.2220046723012893, 0.2220046723012893,\n",
       "        0.2220046723012893, 0.0, 0.0, 0.0, 0.0, 0.0, 0.0, 0.0, 0.0, 0.0,\n",
       "        0.0, 0.2220046723012893, 0.2220046723012893, 0.2220046723012893,\n",
       "        0.2220046723012893, 0.0, 0.0, 0.0, 0.0, 0.0, 0.2220046723012893,\n",
       "        0.2220046723012893, 0.16796626043282373, 0.0, 0.2220046723012893,\n",
       "        0.2220046723012893, 0.2220046723012893, 0.16796626043282373, 0.0,\n",
       "        0.0, 0.0, 0.2220046723012893, 0.2220046723012893,\n",
       "        0.2220046723012893, 0.0, 0.0, 0.0, 0.0, 0.0, 0.0, 0.0, 0.0, 0.0,\n",
       "        0.0, 0.0, 'abc2', 'f3'],\n",
       "       [0.3232131154680186, 0.3232131154680186, 0.3232131154680186,\n",
       "        0.3232131154680186, 0.0, 0.0, 0.0, 0.0, 0.24453944038767086, 0.0,\n",
       "        0.0, 0.0, 0.0, 0.0, 0.0, 0.0, 0.0, 0.0, 0.3232131154680186,\n",
       "        0.3232131154680186, 0.3232131154680186, 0.0, 0.0, 0.0, 0.0, 0.0,\n",
       "        0.0, 0.0, 0.0, 0.0, 0.0, 0.0, 0.0, 0.0, 0.0, 0.0, 0.0, 0.0, 0.0,\n",
       "        0.0, 0.0, 0.0, 0.0, 0.0, 0.0, 0.0, 0.0, 0.0, 0.0, 0.0, 0.0, 0.0,\n",
       "        0.0, 0.0, 0.0, 0.0, 0.0, 0.0, 0.0, 0.0, 0.3232131154680186,\n",
       "        0.3232131154680186, 'abc2', 'f4'],\n",
       "       [0.0, 0.0, 0.0, 0.0, 0.2041241452319315, 0.2041241452319315,\n",
       "        0.2041241452319315, 0.2041241452319315, 0.0, 0.0, 0.0, 0.0, 0.0,\n",
       "        0.0, 0.0, 0.0, 0.0, 0.0, 0.0, 0.0, 0.0, 0.0, 0.0, 0.0, 0.0,\n",
       "        0.2041241452319315, 0.2041241452319315, 0.2041241452319315, 0.0,\n",
       "        0.0, 0.0, 0.0, 0.2041241452319315, 0.2041241452319315,\n",
       "        0.2041241452319315, 0.2041241452319315, 0.2041241452319315, 0.0,\n",
       "        0.0, 0.0, 0.0, 0.0, 0.0, 0.0, 0.0, 0.0, 0.0, 0.0, 0.0, 0.0, 0.0,\n",
       "        0.408248290463863, 0.2041241452319315, 0.2041241452319315,\n",
       "        0.2041241452319315, 0.2041241452319315, 0.2041241452319315,\n",
       "        0.2041241452319315, 0.2041241452319315, 0.2041241452319315, 0.0,\n",
       "        0.0, 'abc2', 'f4']], dtype=object)"
      ]
     },
     "execution_count": 48,
     "metadata": {},
     "output_type": "execute_result"
    }
   ],
   "source": [
    "X"
   ]
  },
  {
   "cell_type": "code",
   "execution_count": 50,
   "metadata": {
    "collapsed": false
   },
   "outputs": [
    {
     "data": {
      "text/plain": [
       "LogisticRegression(C=1.0, class_weight=None, dual=False, fit_intercept=True,\n",
       "          intercept_scaling=1, max_iter=100, multi_class='ovr', n_jobs=1,\n",
       "          penalty='l2', random_state=None, solver='liblinear', tol=0.0001,\n",
       "          verbose=0, warm_start=False)"
      ]
     },
     "execution_count": 50,
     "metadata": {},
     "output_type": "execute_result"
    }
   ],
   "source": [
    "#NOTE: vectFit.A works, but with features hstacked it doesn't work\n",
    "from scipy import sparse\n",
    "from sklearn.linear_model import LogisticRegression\n",
    "logisticModel = LogisticRegression(multi_class='ovr')\n",
    "#logisticModel = LogisticRegression(multi_class='multinomial',solver='lbfgs')\n",
    "#logisticModel = LogisticRegression(multi_class='multinomial',solver='newton-cg')\n",
    "logisticModel.fit(vectFit.A, automationLogsFiltered['O/P Analysis'])"
   ]
  },
  {
   "cell_type": "code",
   "execution_count": 51,
   "metadata": {
    "collapsed": false
   },
   "outputs": [
    {
     "ename": "ValueError",
     "evalue": "could not convert string to float: f4",
     "output_type": "error",
     "traceback": [
      "\u001b[1;31m---------------------------------------------------------------------------\u001b[0m",
      "\u001b[1;31mValueError\u001b[0m                                Traceback (most recent call last)",
      "\u001b[1;32m<ipython-input-51-d503ccd65c54>\u001b[0m in \u001b[0;36m<module>\u001b[1;34m()\u001b[0m\n\u001b[0;32m      2\u001b[0m \u001b[1;32mfrom\u001b[0m \u001b[0msklearn\u001b[0m\u001b[1;33m.\u001b[0m\u001b[0mlinear_model\u001b[0m \u001b[1;32mimport\u001b[0m \u001b[0mLogisticRegression\u001b[0m\u001b[1;33m\u001b[0m\u001b[0m\n\u001b[0;32m      3\u001b[0m \u001b[0mlogisticModel1\u001b[0m \u001b[1;33m=\u001b[0m \u001b[0mLogisticRegression\u001b[0m\u001b[1;33m(\u001b[0m\u001b[0mmulti_class\u001b[0m\u001b[1;33m=\u001b[0m\u001b[1;34m'ovr'\u001b[0m\u001b[1;33m)\u001b[0m\u001b[1;33m\u001b[0m\u001b[0m\n\u001b[1;32m----> 4\u001b[1;33m \u001b[0mlogisticModel1\u001b[0m\u001b[1;33m.\u001b[0m\u001b[0mfit\u001b[0m\u001b[1;33m(\u001b[0m\u001b[0mX\u001b[0m\u001b[1;33m,\u001b[0m \u001b[0mautomationLogsFiltered\u001b[0m\u001b[1;33m[\u001b[0m\u001b[1;34m'O/P Analysis'\u001b[0m\u001b[1;33m]\u001b[0m\u001b[1;33m)\u001b[0m\u001b[1;33m\u001b[0m\u001b[0m\n\u001b[0m",
      "\u001b[1;32m/home/tivo/anaconda2/lib/python2.7/site-packages/sklearn/linear_model/logistic.pyc\u001b[0m in \u001b[0;36mfit\u001b[1;34m(self, X, y, sample_weight)\u001b[0m\n\u001b[0;32m   1140\u001b[0m \u001b[1;33m\u001b[0m\u001b[0m\n\u001b[0;32m   1141\u001b[0m         X, y = check_X_y(X, y, accept_sparse='csr', dtype=np.float64, \n\u001b[1;32m-> 1142\u001b[1;33m                          order=\"C\")\n\u001b[0m\u001b[0;32m   1143\u001b[0m         \u001b[0mcheck_classification_targets\u001b[0m\u001b[1;33m(\u001b[0m\u001b[0my\u001b[0m\u001b[1;33m)\u001b[0m\u001b[1;33m\u001b[0m\u001b[0m\n\u001b[0;32m   1144\u001b[0m         \u001b[0mself\u001b[0m\u001b[1;33m.\u001b[0m\u001b[0mclasses_\u001b[0m \u001b[1;33m=\u001b[0m \u001b[0mnp\u001b[0m\u001b[1;33m.\u001b[0m\u001b[0munique\u001b[0m\u001b[1;33m(\u001b[0m\u001b[0my\u001b[0m\u001b[1;33m)\u001b[0m\u001b[1;33m\u001b[0m\u001b[0m\n",
      "\u001b[1;32m/home/tivo/anaconda2/lib/python2.7/site-packages/sklearn/utils/validation.pyc\u001b[0m in \u001b[0;36mcheck_X_y\u001b[1;34m(X, y, accept_sparse, dtype, order, copy, force_all_finite, ensure_2d, allow_nd, multi_output, ensure_min_samples, ensure_min_features, y_numeric, warn_on_dtype, estimator)\u001b[0m\n\u001b[0;32m    508\u001b[0m     X = check_array(X, accept_sparse, dtype, order, copy, force_all_finite,\n\u001b[0;32m    509\u001b[0m                     \u001b[0mensure_2d\u001b[0m\u001b[1;33m,\u001b[0m \u001b[0mallow_nd\u001b[0m\u001b[1;33m,\u001b[0m \u001b[0mensure_min_samples\u001b[0m\u001b[1;33m,\u001b[0m\u001b[1;33m\u001b[0m\u001b[0m\n\u001b[1;32m--> 510\u001b[1;33m                     ensure_min_features, warn_on_dtype, estimator)\n\u001b[0m\u001b[0;32m    511\u001b[0m     \u001b[1;32mif\u001b[0m \u001b[0mmulti_output\u001b[0m\u001b[1;33m:\u001b[0m\u001b[1;33m\u001b[0m\u001b[0m\n\u001b[0;32m    512\u001b[0m         y = check_array(y, 'csr', force_all_finite=True, ensure_2d=False,\n",
      "\u001b[1;32m/home/tivo/anaconda2/lib/python2.7/site-packages/sklearn/utils/validation.pyc\u001b[0m in \u001b[0;36mcheck_array\u001b[1;34m(array, accept_sparse, dtype, order, copy, force_all_finite, ensure_2d, allow_nd, ensure_min_samples, ensure_min_features, warn_on_dtype, estimator)\u001b[0m\n\u001b[0;32m    371\u001b[0m                                       force_all_finite)\n\u001b[0;32m    372\u001b[0m     \u001b[1;32melse\u001b[0m\u001b[1;33m:\u001b[0m\u001b[1;33m\u001b[0m\u001b[0m\n\u001b[1;32m--> 373\u001b[1;33m         \u001b[0marray\u001b[0m \u001b[1;33m=\u001b[0m \u001b[0mnp\u001b[0m\u001b[1;33m.\u001b[0m\u001b[0marray\u001b[0m\u001b[1;33m(\u001b[0m\u001b[0marray\u001b[0m\u001b[1;33m,\u001b[0m \u001b[0mdtype\u001b[0m\u001b[1;33m=\u001b[0m\u001b[0mdtype\u001b[0m\u001b[1;33m,\u001b[0m \u001b[0morder\u001b[0m\u001b[1;33m=\u001b[0m\u001b[0morder\u001b[0m\u001b[1;33m,\u001b[0m \u001b[0mcopy\u001b[0m\u001b[1;33m=\u001b[0m\u001b[0mcopy\u001b[0m\u001b[1;33m)\u001b[0m\u001b[1;33m\u001b[0m\u001b[0m\n\u001b[0m\u001b[0;32m    374\u001b[0m \u001b[1;33m\u001b[0m\u001b[0m\n\u001b[0;32m    375\u001b[0m         \u001b[1;32mif\u001b[0m \u001b[0mensure_2d\u001b[0m\u001b[1;33m:\u001b[0m\u001b[1;33m\u001b[0m\u001b[0m\n",
      "\u001b[1;31mValueError\u001b[0m: could not convert string to float: f4"
     ]
    }
   ],
   "source": [
    "from scipy import sparse\n",
    "from sklearn.linear_model import LogisticRegression\n",
    "logisticModel1 = LogisticRegression(multi_class='ovr')\n",
    "logisticModel1.fit(X, automationLogsFiltered['O/P Analysis'])"
   ]
  },
  {
   "cell_type": "code",
   "execution_count": null,
   "metadata": {
    "collapsed": true
   },
   "outputs": [],
   "source": []
  }
 ],
 "metadata": {
  "kernelspec": {
   "display_name": "Python 2",
   "language": "python",
   "name": "python2"
  },
  "language_info": {
   "codemirror_mode": {
    "name": "ipython",
    "version": 2
   },
   "file_extension": ".py",
   "mimetype": "text/x-python",
   "name": "python",
   "nbconvert_exporter": "python",
   "pygments_lexer": "ipython2",
   "version": "2.7.11"
  }
 },
 "nbformat": 4,
 "nbformat_minor": 0
}
